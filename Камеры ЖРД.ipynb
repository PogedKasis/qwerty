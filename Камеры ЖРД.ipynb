{
 "cells": [
  {
   "cell_type": "code",
   "execution_count": 845,
   "metadata": {},
   "outputs": [],
   "source": [
    " import math \n",
    "from sympy import*\n",
    "from sympy.abc import*\n",
    "\n",
    "def F_z(y):\n",
    "    H = 0.013\n",
    "    z = y / (math.sqrt(2) * H)\n",
    "    F_z = (2 / math.sqrt(math.pi)) * (integrate(exp(-(x ** 2)), (x, 0, z)).evalf())\n",
    "    return F_z\n",
    "\n",
    "def dolya(x1, x2, y1, y2):\n",
    "    ras = (1/4) * (F_z(x2) - F_z(x1)) * (F_z(y2) - F_z(y1))\n",
    "    return ras\n",
    "\n",
    "def dolya_prist(x1, x2, y1):\n",
    "    ras = (1/4) * (F_z(x2) - F_z(x1)) * (1 - F_z(y1))\n",
    "    return ras\n",
    "def okrug(x):\n",
    "    x = x * 10000\n",
    "    ost = x % 1\n",
    "    if ost >= 0.5:\n",
    "        x = (x // 1) + 1\n",
    "    else: \n",
    "        x = x // 1\n",
    "    if x == 0:\n",
    "        x = 1\n",
    "    x /= 10000\n",
    "    return x\n",
    "\n",
    "def nax_fi(alfa):\n",
    "    fi = 0.1\n",
    "    t = math.tan(alfa * math.pi / 180)\n",
    "    A_fi = ((1 - fi) * (2 ** 0.5)) / (fi ** 1.5)\n",
    "    mu_fi = fi * ((fi / (2 - fi)) ** 0.5)\n",
    "    t1 = (2 * A_fi * mu_fi) / ((((1 + ((1 - fi) ** 0.5)\n",
    "                                 ) ** 2) - (4 * ((mu_fi * A_fi) ** 2))) ** 0.5)\n",
    "    ta = (t * 1000) // 1\n",
    "    ta1 = (t1 * 1000) // 1\n",
    "    while ta != ta1:\n",
    "        t = math.tan(alfa * math.pi / 180)\n",
    "        A_fi = ((1 - fi) * (2 ** 0.5)) / (fi ** 1.5)\n",
    "        mu_fi = fi * ((fi / (2 - fi)) ** 0.5)\n",
    "        t1 = (2 * A_fi * mu_fi) / ((((1 + ((1 - fi) ** 0.5)) ** 2) -\n",
    "                                    (4 * ((mu_fi * A_fi) ** 2))) ** 0.5)\n",
    "        fi += 0.00001\n",
    "        ta = (t * 1000) // 1\n",
    "        ta1 = (t1 * 1000) // 1\n",
    "    return fi"
   ]
  },
  {
   "cell_type": "markdown",
   "metadata": {},
   "source": [
    "## Исходные данные\n",
    "\n",
    "$P_п = 100 кН;~ p_к = 10 МПа;~p_a = 0.005 МПа \\\\Компоненты~топлива ~~~~ O_2 + H_2$"
   ]
  },
  {
   "cell_type": "code",
   "execution_count": 846,
   "metadata": {},
   "outputs": [],
   "source": [
    "P_pust = 100000\n",
    "p_k = 10 ** 7\n",
    "p_a = 0.005 * 10**6"
   ]
  },
  {
   "cell_type": "markdown",
   "metadata": {},
   "source": [
    "## Определение основных парраметров"
   ]
  },
  {
   "cell_type": "markdown",
   "metadata": {},
   "source": [
    "### в ядре потока\n",
    "\n",
    "$\\alpha_{опт.я} = 0.073;~ K_0 = 7.937;~ K_m = 5.794;~ I_уп = 4624.2~\\frac{м}{c}; \\\\ T_я = 3696.47K; R= 630 \\frac{Дж}{кг \\cdot К};~ k= 1.272$"
   ]
  },
  {
   "cell_type": "code",
   "execution_count": 847,
   "metadata": {},
   "outputs": [],
   "source": [
    "alfa_optim_yadr = 0.73\n",
    "K_0 = 7.937\n",
    "K_m = alfa_optim_yadr * K_0\n",
    "I_u_yadr = 4624.2\n",
    "T_yadr = 3696.47\n",
    "R = 630\n",
    "k = 1.272"
   ]
  },
  {
   "cell_type": "markdown",
   "metadata": {},
   "source": [
    "### В пристенеке \n",
    "\n",
    "$ T_{прист} = 2000 К;~ \\alpha_{прист} = 0.29;~ K_{mприст} = 2.302;~ I_{уприст} = 4314.7$"
   ]
  },
  {
   "cell_type": "code",
   "execution_count": 848,
   "metadata": {},
   "outputs": [],
   "source": [
    "T_prist = 2000\n",
    "alfa_prist = 0.29\n",
    "K_m_prist = alfa_prist * K_0\n",
    "I_u_prist = 4314.7"
   ]
  },
  {
   "cell_type": "markdown",
   "metadata": {},
   "source": [
    "### Параметры с учетом избытка горючего в пристенке\n",
    "$ I_{уд} = 4608.7~ \\frac{м}{с};~~ \\dot m_{\\Sigma} = 21.7~ \\frac{кг}{с}$"
   ]
  },
  {
   "cell_type": "code",
   "execution_count": 849,
   "metadata": {
    "scrolled": true
   },
   "outputs": [],
   "source": [
    "I_ud = I_u_yadr - (0.05 * (I_u_yadr - I_u_prist))\n",
    "m_sum = P_pust / I_ud"
   ]
  },
  {
   "cell_type": "markdown",
   "metadata": {},
   "source": [
    "#### Расходы в пристенке \n",
    "\n",
    "$ \\dot m_{прист} = 1.085~\\frac{кг}{с};~ \\dot m_{гприст} = 0.329~\\frac{кг}{с}~ \\dot m_{окприст} = 0.756~\\frac{кг}{с}$"
   ]
  },
  {
   "cell_type": "code",
   "execution_count": 850,
   "metadata": {},
   "outputs": [],
   "source": [
    "m_prist = m_sum * 0.05\n",
    "m_g_prist = m_prist / (K_m_prist + 1)\n",
    "m_ok_prist = m_prist - m_g_prist"
   ]
  },
  {
   "cell_type": "markdown",
   "metadata": {},
   "source": [
    "#### Расходы в ядре \n",
    "\n",
    "$ \\dot m_{я} = 20.61 \\frac{кг}{с};~ \\dot m_{гя} = 3.034 \\frac{кг}{с};~ \\dot m_{окя} = 17.58 \\frac{кг}{с}$"
   ]
  },
  {
   "cell_type": "code",
   "execution_count": 851,
   "metadata": {},
   "outputs": [],
   "source": [
    "m_yadr = m_sum - m_prist\n",
    "m_g_yadr = m_yadr / (K_m + 1)\n",
    "m_ok_yadr = m_yadr - m_g_yadr"
   ]
  },
  {
   "cell_type": "markdown",
   "metadata": {},
   "source": [
    "#### Расходный комплекс\n",
    "\n",
    "$ A_k = 0.662;~~ \\beta = 2304.65\\frac{м}{с}$"
   ]
  },
  {
   "cell_type": "code",
   "execution_count": 852,
   "metadata": {},
   "outputs": [],
   "source": [
    "A_k = (k ** 0.5) * ((2 / (k + 1)) ** ((k + 1)  / (2 * (k - 1))))\n",
    "betta = ((T_yadr * R) ** 0.5) / A_k"
   ]
  },
  {
   "cell_type": "markdown",
   "metadata": {},
   "source": [
    "#### Параметры критического сечения \n",
    "\n",
    "$F_{кр} = 0.005 м^2;~ D_{кр} = 0.0798 м$"
   ]
  },
  {
   "cell_type": "code",
   "execution_count": 853,
   "metadata": {},
   "outputs": [],
   "source": [
    "F_kr = (m_sum * betta) / p_k\n",
    "D_kr = ((4 * F_kr) / 3.14) ** 0.5"
   ]
  },
  {
   "cell_type": "markdown",
   "metadata": {},
   "source": [
    "#### Параметры форсуночной головки\n",
    "##### Находим радиус форсуночной головкии и задаемся шагом между форсунками\n",
    "\n",
    "$F_г = 0.02 м^2;~ D_г = 0.16 м;~ R_г = 0.08м;~ H = 0.013м;~ D_ш = 0.127м;$"
   ]
  },
  {
   "cell_type": "code",
   "execution_count": 854,
   "metadata": {},
   "outputs": [],
   "source": [
    "F_g = 4 * F_kr\n",
    "D_g = ((4 * F_g) / 3.14) ** 0.5\n",
    "R_g = D_g / 2\n",
    "H = 0.013\n",
    "D_sh = D_g - (2.5 * H)"
   ]
  },
  {
   "cell_type": "markdown",
   "metadata": {},
   "source": [
    "##### Определяем радиус расположения пристеночных форсунок \n",
    "\n",
    "$R_{прист} = 0.0733 м;$"
   ]
  },
  {
   "cell_type": "code",
   "execution_count": 855,
   "metadata": {},
   "outputs": [],
   "source": [
    "R_prist = (D_g - H) / 2"
   ]
  },
  {
   "cell_type": "markdown",
   "metadata": {},
   "source": [
    "#### Задаемся количеством форсунок в ядре и пристенке \n",
    "$n_{гпр} = 108;~ n_{окпр} = 36;~ n_{гя} = 65;~ n_{окпр} = 138;~$"
   ]
  },
  {
   "cell_type": "code",
   "execution_count": 856,
   "metadata": {},
   "outputs": [],
   "source": [
    "n_g_prist = 108\n",
    "n_ok_prist = 36\n",
    "n_g_yadr = 65\n",
    "n_ok_yadr =138 "
   ]
  },
  {
   "cell_type": "markdown",
   "metadata": {},
   "source": [
    "#### Определеим соответствующие расходы через форсунки \n",
    "\n",
    "$\\dot m_{фгя} = 0.0467 \\frac{кг}{с};~ \\dot m_{фокя} = 0.127 \\frac{кг}{с};~\\dot m_{фгприст} = 0.003 \\frac{кг}{с};~\\dot m_{я} = 0.005 \\frac{кг}{с};~$"
   ]
  },
  {
   "cell_type": "code",
   "execution_count": 857,
   "metadata": {},
   "outputs": [],
   "source": [
    "m_fg_yadr = m_g_yadr / n_g_yadr\n",
    "m_fok_yadr = m_ok_yadr / n_ok_yadr\n",
    "m_fg_prist = m_g_prist / n_g_prist\n",
    "m_fok_prist = m_ok_prist / n_ok_yadr"
   ]
  },
  {
   "cell_type": "markdown",
   "metadata": {},
   "source": [
    "### Геометрический метод расчета соотношения компонентов в ядре потока"
   ]
  },
  {
   "cell_type": "markdown",
   "metadata": {},
   "source": [
    "#### Для площадки с форсункой горючего по центру и форсунками окислителя по краям квадрата справедливо\n",
    "\n",
    "$K_{km~геом} = 5.458$"
   ]
  },
  {
   "cell_type": "code",
   "execution_count": 858,
   "metadata": {},
   "outputs": [],
   "source": [
    "n_o = 6 # Количество форсунок окислителя\n",
    "m_otn_ok = 1 / 3 # Относительный расход каждой форсунки окислителя на площадку\n",
    "n_g = 1 # Количество форсунок окислителя \n",
    "m_otn_g = 1 # Относительный расход каждой форсунки горючего на площадку\n",
    "k_m_yadr_geom = (n_o * m_otn_ok * m_fok_yadr) / (n_g * m_otn_g * m_fg_yadr)"
   ]
  },
  {
   "cell_type": "markdown",
   "metadata": {},
   "source": [
    "### Расчет соотношения компонентов методом Иевлева"
   ]
  },
  {
   "cell_type": "markdown",
   "metadata": {},
   "source": [
    "#### Приняв что ддля каждого элемента принимабт участие форсунки, которые находятся на растояни 3-х шагов "
   ]
  },
  {
   "cell_type": "markdown",
   "metadata": {},
   "source": [
    "##### Площадка №1 (центральная)\n",
    "$K_{m1} = 5.111$"
   ]
  },
  {
   "cell_type": "code",
   "execution_count": 859,
   "metadata": {},
   "outputs": [],
   "source": [
    "XX1ok = [(-0.0065, 0.0065), (-0.0144, -0.00043), (-0.0065, 0.0065),\n",
    "       (-0.02035, -0.00735), (-0.001342, -0.00042), (-0.02035, -0.00735)]\n",
    "YY1ok = [(-0.0145, -0.0015), (-0.0105, 0.0025), (-0.0225, -0.0095), \n",
    "       (-0.0145, -0.0015), (-0.0265, -0.0135), (-0.0225, -0.0095)]\n",
    "d_sum = 0\n",
    "for i1 in range(len(XX1ok)):\n",
    "    d = dolya(XX1ok[i1][0], XX1ok[i1][1], YY1ok[i1][0], YY1ok[i1][1])\n",
    "    d_sum += d\n",
    "m_ok1 = 6* m_fok_yadr * d_sum\n",
    "\n",
    "XX1g = [(-0.0065, 0.0065), (-0.0144, -0.00043)]\n",
    "YY1g = [(-0.0065, 0.0065), (-0.0185, -0.0055)]\n",
    "d_sum = 0\n",
    "for i1 in range(len(XX1g)):\n",
    "    d = dolya(XX1g[i1][0], XX1g[i1][1], YY1g[i1][0], YY1g[i1][1])\n",
    "    d_sum += d\n",
    "m_g1 = 6* m_fg_yadr * d_sum\n",
    "k_m1 = m_ok1 / m_g1"
   ]
  },
  {
   "cell_type": "markdown",
   "metadata": {},
   "source": [
    "#### Площадки №2, 3 по радиуссу:\n",
    "#### Распределение аналогично распределению площади №1, ввиду той же геометрии расположения форсунок в рассматриваемой зоне 3Н"
   ]
  },
  {
   "cell_type": "markdown",
   "metadata": {},
   "source": [
    "#### Площадка 4 по радиусу:\n",
    "$K_{m4} = 5.021$"
   ]
  },
  {
   "cell_type": "code",
   "execution_count": 860,
   "metadata": {},
   "outputs": [],
   "source": [
    "XX4ok = [(-0.0065, 0.0065), (-0.0144, -0.00043), (-0.0065, 0.0065),\n",
    "       (-0.02035, -0.00735), (-0.001342, -0.00042), (-0.02035, -0.00735)]\n",
    "YY4ok = [(-0.0145, -0.0015), (-0.0105, 0.0025), (-0.0225, -0.0095), \n",
    "       (-0.0145, -0.0015), (-0.0265, -0.0135), (-0.0225, -0.0095)]\n",
    "d_sum = 0\n",
    "for i4 in range(len(XX4ok)):\n",
    "    d = dolya(XX4ok[i4][0], XX4ok[i4][1], YY4ok[i4][0], YY4ok[i4][1])\n",
    "    if i4 >= 4 :\n",
    "        d_sum += 5 * d\n",
    "    else:\n",
    "        d_sum += 6 * d\n",
    "m_ok4 = m_fok_yadr * d_sum\n",
    "\n",
    "XX4g = [(-0.0065, 0.0065), (-0.0144, -0.00043)]\n",
    "YY4g = [(-0.0065, 0.0065), (-0.0185, -0.0055)]\n",
    "d_sum = 0\n",
    "for i4 in range(len(XX4g)):\n",
    "    d = dolya(XX4g[i4][0], XX4g[i4][1], YY4g[i4][0], YY4g[i4][1])\n",
    "    d_sum += 6 * d\n",
    "\n",
    "m_g4 = m_fg_yadr * d_sum\n",
    "k_m4 = m_ok4 / m_g4 "
   ]
  },
  {
   "cell_type": "markdown",
   "metadata": {},
   "source": [
    "#### Площадка №5 по радиусу:\n",
    "$K_{m5} = 3.35$"
   ]
  },
  {
   "cell_type": "code",
   "execution_count": 861,
   "metadata": {},
   "outputs": [],
   "source": [
    "XX5ok_yadr = [(-0.0065, 0.0065), (-0.0144, -0.00043), (-0.0065, 0.0065),\n",
    "       (-0.02035, -0.00735), (-0.001342, -0.00042), (-0.02035, -0.00735),\n",
    "             (-0.0065, 0.0065), (-0.0144, -0.00043), (-0.0065, 0.0065),\n",
    "       (-0.02035, -0.00735), (-0.001342, -0.00042), (-0.02035, -0.00735), \n",
    "             (-0.001342, -0.00042)]\n",
    "YY5ok_yadr = [(-0.0145, -0.0015), (-0.0105, 0.0025), (-0.0225, -0.0095), \n",
    "       (-0.0145, -0.0015), (-0.0265, -0.0135), (-0.0225, -0.0095),\n",
    "             (-0.0145, -0.0015), (-0.0105, 0.0025), (-0.0225, -0.0095), \n",
    "       (-0.0145, -0.0015), (-0.0265, -0.0135), (-0.0225, -0.0095),\n",
    "             (-0.0265, -0.0135)]\n",
    "d_sum_yadr = 0\n",
    "\n",
    "for i5 in range(len(XX5ok_yadr)):\n",
    "    d = dolya(XX5ok_yadr[i5][0], XX5ok_yadr[i5][1], YY5ok_yadr[i5][0], YY5ok_yadr[i5][1])\n",
    "    d_sum_yadr += d\n",
    "m_ok5_yadr = m_fok_yadr * d_sum_yadr"
   ]
  },
  {
   "cell_type": "code",
   "execution_count": 862,
   "metadata": {},
   "outputs": [],
   "source": [
    "XX5ok_prist = [(-0.0193, -0.0063)]\n",
    "YY5ok_prist = [(-0.0125, 0.0005)]\n",
    "d_sum_prist = 0\n",
    "\n",
    "for i5 in range(len(XX5ok_prist)):\n",
    "    d = dolya(XX5ok_prist[i5][0], XX5ok_prist[i5][1], YY5ok_prist[i5][0], YY5ok_prist[i5][1])\n",
    "    d_sum_prist += 2 * d\n",
    "m_ok5_prist = m_fok_prist * d_sum_prist\n",
    "m_ok5 = m_ok5_prist + m_ok5_yadr"
   ]
  },
  {
   "cell_type": "code",
   "execution_count": 863,
   "metadata": {},
   "outputs": [],
   "source": [
    "XX5g_yadr = [(-0.0065, 0.0065), (-0.0144, -0.00043)]\n",
    "YY5g_yadr = [(-0.0065, 0.0065), (-0.0185, -0.0055)]\n",
    "d_sum_yadr = 0\n",
    "\n",
    "for i5 in range(len(XX5g_yadr)):\n",
    "    d = dolya(XX5g_yadr[i5][0], XX5g_yadr[i5][1], YY5g_yadr[i5][0], YY5g_yadr[i5][1])\n",
    "    d_sum_yadr += 3*d\n",
    "m_g5_yadr = m_fg_yadr * d_sum_yadr"
   ]
  },
  {
   "cell_type": "code",
   "execution_count": 864,
   "metadata": {},
   "outputs": [
    {
     "name": "stdout",
     "output_type": "stream",
     "text": [
      "3.35452146042673\n"
     ]
    }
   ],
   "source": [
    "XX5g_prist = [(-0.0185, -0.0055), (-0.0196, -0.0066),\n",
    "             (-0.0248, -0.0118), (-0.0121, -0.0251)]\n",
    "YY5g_prist = [(-0.0184, -0.0054), (-0.0065, 0.0065),\n",
    "             (-0.013, 0.00005), (-0.0065, 0.0065)]\n",
    "d_sum_prist = 0\n",
    "\n",
    "for i5 in range(len(XX5g_prist)):\n",
    "    d = dolya(XX5g_prist[i5][0], XX5g_prist[i5][1], YY5g_prist[i5][0], YY5g_prist[i5][1])\n",
    "    d_sum_prist += 2*d\n",
    "m_g5_prist = m_fg_prist * d_sum_prist\n",
    "m_g5 = m_g5_prist + m_g5_yadr\n",
    "k_m5 = m_ok5 / m_g5\n",
    "print(k_m5)"
   ]
  },
  {
   "cell_type": "markdown",
   "metadata": {},
   "source": [
    "#### Площадка № 6 (нижняя по пристеночному слою)\n",
    "$K_{m6} = 2.43$"
   ]
  },
  {
   "cell_type": "code",
   "execution_count": 865,
   "metadata": {},
   "outputs": [],
   "source": [
    "XX6ok_yadr = [(-0.0145, -0.0015)]\n",
    "YY6ok_yadr = [0.012]\n",
    "d_sum_yadr = 0\n",
    "\n",
    "for i6 in range(len(XX6ok_yadr)):\n",
    "    d = dolya_prist(XX6ok_yadr[i6][0], XX6ok_yadr[i6][1], YY6ok_yadr[i6])\n",
    "    d_sum_yadr += 2*d"
   ]
  },
  {
   "cell_type": "code",
   "execution_count": 866,
   "metadata": {},
   "outputs": [],
   "source": [
    "XX6ok_prist = [(-0.0125, 0.0005), (-0.0242, -0.0112)]\n",
    "YY6ok_prist = [-0.0007, 0.0013]\n",
    "d_sum_prist = 0\n",
    "\n",
    "for i6 in range(len(XX6ok_prist)):\n",
    "    d = dolya_prist(XX6ok_prist[i6][0], XX6ok_prist[i6][1], YY6ok_prist[i6])\n",
    "    d_sum_prist += 2 * d\n",
    "m_6ok = (d_sum_yadr * m_fok_yadr) + (d_sum_prist * m_fok_prist)"
   ]
  },
  {
   "cell_type": "code",
   "execution_count": 867,
   "metadata": {},
   "outputs": [],
   "source": [
    "XX6g_yadr = [(-0.0065, 0.0065)]\n",
    "YY6g_yadr = [0.0127]\n",
    "d_sum_yadr = 0\n",
    "\n",
    "for i6 in range(len(XX6g_yadr)):\n",
    "    d = dolya_prist(XX6g_yadr[i6][0], XX6g_yadr[i6][1], YY6g_yadr[i6])\n",
    "    d_sum_yadr += d\n"
   ]
  },
  {
   "cell_type": "code",
   "execution_count": 868,
   "metadata": {},
   "outputs": [],
   "source": [
    "XX6g_prist = [(-0.0184, -0.0054), (-0.0065, 0.0065), (-0.0184, -0.0054),\n",
    "             (-0.0257, -0.0127), (-0.0193, -0.0063), (-0.013, 0.00005),\n",
    "             (-0.0065, 0.0065), (-0.0257, -0.127), (-0.0193, -0.0063), (-0.013, 0.00005)]\n",
    "YY6g_prist = [0.00005, 0.001, 0.00005,\n",
    "              0.004, 0.0054, -0.0062, \n",
    "              -0.0065, 0.004, 0.0054, -0.0062]\n",
    "d_sum_prist = 0\n",
    "\n",
    "for i6 in range(len(XX6g_prist)):\n",
    "    d = dolya_prist(XX6g_prist[i6][0], XX6g_prist[i6][1], YY6g_prist[i6])\n",
    "    d_sum_prist += d\n",
    "m_6g = (d_sum_yadr * m_fg_yadr) + (d_sum_prist * m_fg_prist)\n",
    "km_6 = m_6ok / m_6g"
   ]
  },
  {
   "cell_type": "markdown",
   "metadata": {},
   "source": [
    "#### Площадка № 7 (средняя по пристеночному слою)\n",
    "$K_{m7} = 2.92$"
   ]
  },
  {
   "cell_type": "code",
   "execution_count": 869,
   "metadata": {},
   "outputs": [],
   "source": [
    "XX7ok_yadr = [(-0.0076, 0.0053), (0, 0.013)]\n",
    "YY7ok_yadr = [0.0098, 0.0119]\n",
    "d_sum_yadr = 0\n",
    "\n",
    "for i7 in range(len(XX7ok_yadr)):\n",
    "    d = dolya_prist(XX7ok_yadr[i7][0], XX7ok_yadr[i7][1], YY7ok_yadr[i7])\n",
    "    d_sum_yadr += d\n",
    "m_7ok_yadr = d_sum_yadr * m_fok_yadr"
   ]
  },
  {
   "cell_type": "code",
   "execution_count": 870,
   "metadata": {},
   "outputs": [],
   "source": [
    "XX7ok_prist = [(-0.0065, 0.0065), (-0.0184, -0.0054), (-0.0184, -0.0054)]\n",
    "YY7ok_prist = [0.001, 0.000005, 0.000005]\n",
    "d_sum_prist = 0\n",
    "\n",
    "for i7 in range(len(XX7ok_prist)):\n",
    "    d = dolya_prist(XX7ok_prist[i7][0], XX7ok_prist[i7][1], YY7ok_prist[i7])\n",
    "    d_sum_prist += d\n",
    "m_7ok_prist = d_sum_prist * m_fok_prist\n",
    "m_7ok = m_7ok_prist + m_7ok_yadr"
   ]
  },
  {
   "cell_type": "code",
   "execution_count": 871,
   "metadata": {},
   "outputs": [],
   "source": [
    "XX7g_yadr = [(-0.0156, -0.0056)]\n",
    "YY7g_yadr = [0.0078]\n",
    "d_sum_yadr = 0\n",
    "\n",
    "for i7 in range(len(XX7g_yadr)):\n",
    "    d = dolya_prist(XX7g_yadr[i7][0], XX7g_yadr[i7][1], YY7g_yadr[i7])\n",
    "    d_sum_yadr += d\n",
    "m_7g_yadr = d_sum_yadr * m_fg_yadr"
   ]
  },
  {
   "cell_type": "code",
   "execution_count": 872,
   "metadata": {},
   "outputs": [],
   "source": [
    "XX7g_prist = [(-0.0257, -0.0127), (-0.0193, -0.0063), (-0.013, 0.00005),\n",
    "             (-0.0065, 0.0065), (-0.0257, -0.127), (-0.0193, -0.0063), (-0.013, 0.00005),\n",
    "             (-0.0125, 0.0005), (-0.0242, -0.0112), (-0.0125, 0.0005), (-0.0242, -0.0112)]\n",
    "YY7g_prist = [0.004, 0.0054, -0.0062, \n",
    "              -0.0065, 0.004, 0.0054, -0.0062,\n",
    "             -0.0007, 0.0013, -0.0007, 0.0013]\n",
    "d_sum_prist = 0\n",
    "\n",
    "for i7 in range(len(XX7g_prist)):\n",
    "    d = dolya_prist(XX7g_prist[i7][0], XX7g_prist[i7][1], YY7g_prist[i7])\n",
    "    d_sum_prist += d\n",
    "m_7g_prist = d_sum_prist * m_fg_prist\n",
    "m_7g = m_7g_prist + m_7g_yadr\n",
    "km_7 = m_7ok / m_7g"
   ]
  },
  {
   "cell_type": "markdown",
   "metadata": {},
   "source": [
    "#### Площадка № 8 (верхняя по пристеночному слою)\n",
    "$K_{m8} = 0.917$"
   ]
  },
  {
   "cell_type": "code",
   "execution_count": 873,
   "metadata": {},
   "outputs": [],
   "source": [
    "XX8ok_yadr = [(-0.0065, 0.0065)]\n",
    "YY8ok_yadr = [0.0115]\n",
    "d_sum_yadr = 0\n",
    "\n",
    "for i8 in range(len(XX8ok_yadr)):\n",
    "    d = dolya_prist(XX8ok_yadr[i8][0], XX8ok_yadr[i8][1], YY8ok_yadr[i8])\n",
    "    d_sum_yadr += d\n",
    "m_8ok_yadr = d_sum_yadr * m_fok_yadr"
   ]
  },
  {
   "cell_type": "code",
   "execution_count": 874,
   "metadata": {},
   "outputs": [],
   "source": [
    "XX8ok_prist = [(-0.0125, 0.0005), (-0.0242, -0.0112)]\n",
    "YY8ok_prist = [-0.0007, 0.0013]\n",
    "d_sum_prist = 0\n",
    "\n",
    "for i8 in range(len(XX8ok_prist)):\n",
    "    d = dolya_prist(XX8ok_prist[i8][0], XX8ok_prist[i8][1], YY8ok_prist[i8])\n",
    "    d_sum_prist += 2 * d\n",
    "\n",
    "m_8ok_prist = d_sum_prist * m_fok_prist\n",
    "m_8ok = m_8ok_prist + m_8ok_yadr"
   ]
  },
  {
   "cell_type": "code",
   "execution_count": 875,
   "metadata": {},
   "outputs": [],
   "source": [
    "XX8g_yadr = [(-0.0134, -0.0004)]\n",
    "YY8g_yadr = [0.0075]\n",
    "d_sum_yadr = 0\n",
    "\n",
    "for i8 in range(len(XX8g_yadr)):\n",
    "    d = dolya_prist(XX8g_yadr[i8][0], XX8g_yadr[i8][1], YY8g_yadr[i8])\n",
    "    d_sum_yadr += 2*d\n",
    "m_8g_yadr = d_sum_yadr * m_fg_yadr"
   ]
  },
  {
   "cell_type": "code",
   "execution_count": 876,
   "metadata": {},
   "outputs": [],
   "source": [
    "XX8g_prist = [(-0.0184, -0.0054), (-0.0065, 0.0065), (-0.0184, -0.0054),\n",
    "             (-0.0257, -0.0127), (-0.0193, -0.0063), (-0.013, 0.00005),\n",
    "             (-0.0065, 0.0065), (-0.0257, -0.127), (-0.0193, -0.0063), (-0.013, 0.00005)]\n",
    "YY8g_prist = [0.00005, 0.001, 0.00005,\n",
    "              0.004, 0.0054, -0.0062, \n",
    "              -0.0065, 0.004, 0.0054, -0.0062]\n",
    "d_sum_prist = 0\n",
    "\n",
    "for i8 in range(len(XX8g_prist)):\n",
    "    d = dolya_prist(XX8g_prist[i8][0], XX8g_prist[i8][1], YY8g_prist[i8])\n",
    "    d_sum_prist += d\n",
    "m_8g_prist = d_sum_prist * m_fg_prist\n",
    "m_8g = m_8g_prist + m_8g_yadr\n",
    "km_8 = m_8ok / m_8g"
   ]
  },
  {
   "cell_type": "markdown",
   "metadata": {},
   "source": [
    "### Расчет центробежной форсунки окислителя в ядре\n",
    "\n",
    "$\\Delta p_ф = 5~МПа;~ \\rho_{ок} = 1140 \\frac{кг}{м^3};~ \\eta_{ок} = 0.2 * 10^{-3} Па * с;~\n",
    "\\alpha = 30^{\\circ}$\n",
    "\n",
    "### находим $\\phi$ исходя из уравнений:\n",
    "$A(\\phi) = \\frac{(1 - \\phi) \\cdot \\sqrt 2}{\\phi \\cdot \\sqrt \\phi};~~~~ \\mu_{\\phi}(\\phi) = \\phi \\cdot \\sqrt \\frac{\\phi}{2 - \\phi};~~~tg(\\alpha) = \\frac{2 \\mu_{\\phi}A}{\\sqrt {(1 + \\sqrt {(1 - \\phi)}^2 - 4\\mu_{\\phi}A}}$\n",
    "\n",
    "$\\phi = 0.463;~~ A(\\phi) = 2.411; ~~ \\mu_{\\phi} = 0.254$"
   ]
  },
  {
   "cell_type": "code",
   "execution_count": 877,
   "metadata": {},
   "outputs": [],
   "source": [
    "delta_p_f = 5 * 10 ** 6\n",
    "ro_ok = 1140 \n",
    "din_vyaz = 0.2 * (10 ** (-3))\n",
    "alfa = 45\n",
    "fi = nax_fi(alfa)\n",
    "A_fi = ((1 - fi) * (2 ** 0.5) ) / (fi ** 1.5)\n",
    "mu_fi = fi * ((fi / (2 - fi)) ** 0.5)"
   ]
  },
  {
   "cell_type": "markdown",
   "metadata": {},
   "source": [
    "##### Геометрические размеры сопла\n",
    "\n",
    "$F_c = 4.69 мм^2;~~ d_c = 2.4 мм;~~ r_c = 1.2мм;~~ R_3 = 3мм$"
   ]
  },
  {
   "cell_type": "code",
   "execution_count": 878,
   "metadata": {},
   "outputs": [],
   "source": [
    "F_c = m_fok_yadr / (mu_fi * ((2 * delta_p_f * ro_ok) ** 0.5))\n",
    "d_c = ((4 * F_c) / 3.14) ** 0.5\n",
    "r_c = d_c / 2\n",
    "R_z = 2.5 * r_c"
   ]
  },
  {
   "cell_type": "markdown",
   "metadata": {},
   "source": [
    "##### принимаю число отверстий \n",
    "$n = 4;~~ r_{вх}= 0.6мм;~~ d_{вх}= 1.2мм$"
   ]
  },
  {
   "cell_type": "code",
   "execution_count": 879,
   "metadata": {},
   "outputs": [],
   "source": [
    "n = 4\n",
    "r_vx = ((R_z * r_c) / (A_fi * n)) ** 0.5\n",
    "d_vx = 2 * okrug(r_vx)"
   ]
  },
  {
   "cell_type": "markdown",
   "metadata": {},
   "source": [
    "##### Расчет с учетом трения получим \n",
    "$Re = 3.378;~~ \\lambda = 0.0205;~~ A_э = 2.33; \\\\ \\frac{A(\\phi) - A_э}{A(\\phi)} = 3.586$"
   ]
  },
  {
   "cell_type": "code",
   "execution_count": 880,
   "metadata": {},
   "outputs": [],
   "source": [
    "Re = (4 * m_fok_yadr) / (din_vyaz * math.pi * d_vx * (n ** 0.5))\n",
    "lambd = 10 ** (((25.8) / ((math.log10(Re)) ** 2.58)) - 2)\n",
    "A_e = (R_z * r_c) / ((n * (r_vx ** 2)) + lambd * 0.5 * R_z * (R_z - r_c))\n",
    "otn = (A_fi - A_e) / A_fi * 100"
   ]
  },
  {
   "cell_type": "markdown",
   "metadata": {},
   "source": [
    "##### Так как отличие между $A_э$ отличается менее, чем на 5%, второе приближение по характеристике Аэ не требуется "
   ]
  },
  {
   "cell_type": "markdown",
   "metadata": {},
   "source": [
    "#### Определим остальные размеры\n",
    "$l_{вх}=1.8мм;~~ l_c = 1.4мм;~~ R_к = 3.6мм;~~ h = 7.3мм;~~ \\delta = 1.2мм;~~ D_ф = 10мм$"
   ]
  },
  {
   "cell_type": "code",
   "execution_count": 881,
   "metadata": {},
   "outputs": [],
   "source": [
    "l_vx = 1.5 * d_vx\n",
    "l_c = 0.6 * d_c \n",
    "R_k = R_z + r_vx\n",
    "h = 2 * R_k\n",
    "delt = math.sqrt((R_z ** 2) + ((math.sqrt((R_k ** 2) - (R_z ** 2)) + l_vx) ** 2))  - R_k\n",
    "D_f = 2 * (R_k + delt)"
   ]
  }
 ],
 "metadata": {
  "kernelspec": {
   "display_name": "Python 3",
   "language": "python",
   "name": "python3"
  },
  "language_info": {
   "codemirror_mode": {
    "name": "ipython",
    "version": 3
   },
   "file_extension": ".py",
   "mimetype": "text/x-python",
   "name": "python",
   "nbconvert_exporter": "python",
   "pygments_lexer": "ipython3",
   "version": "3.7.6"
  }
 },
 "nbformat": 4,
 "nbformat_minor": 4
}
