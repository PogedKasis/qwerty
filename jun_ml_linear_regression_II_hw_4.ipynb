{
 "cells": [
  {
   "cell_type": "markdown",
   "metadata": {
    "colab_type": "text",
    "id": "WT50cBisDUc2"
   },
   "source": [
    "### Урок 4. Домашняя работа\n",
    "\n",
    "**Задание среднего уровня** Примените градиентный спуск к задаче прогнозирования цен на недвижимость в Бостоне. Какого качества на валидации удалось достичь по r2-score? Сколько итераций  понадобилось?"
   ]
  },
  {
   "cell_type": "code",
   "execution_count": 42,
   "metadata": {
    "colab": {},
    "colab_type": "code",
    "id": "7wlgkDfnDUdA"
   },
   "outputs": [],
   "source": [
    "import numpy as np\n",
    "import matplotlib.pyplot as plt\n",
    "from sklearn.datasets import load_boston\n",
    "from sklearn.model_selection import train_test_split\n",
    "from sklearn.linear_model import SGDRegressor\n",
    "from sklearn.metrics import r2_score\n",
    "from sklearn.metrics import mean_squared_error\n",
    "from scipy.spatial import distance\n",
    "\n",
    "%matplotlib inline\n",
    "\n",
    "boston_dataset = load_boston()\n",
    "X = boston_dataset.data\n",
    "y = boston_dataset.target\n",
    "X_train, X_test, y_train, y_test = train_test_split(X, y, test_size=0.2, random_state=228)"
   ]
  },
  {
   "cell_type": "code",
   "execution_count": 43,
   "metadata": {},
   "outputs": [
    {
     "name": "stdout",
     "output_type": "stream",
     "text": [
      "[-0.10934052  0.06582084 -0.01425339  1.90918543 -0.31640443  5.23886854\n",
      "  0.00587805 -0.95158741  0.16928983 -0.00853293 -0.27732461  0.01553048\n",
      " -0.49110823] 0.6876251430257002\n"
     ]
    }
   ],
   "source": [
    "### Много попробовал вариантов модели, в итоге самое хорошее значение получилось вот с таким подходом\n",
    "\n",
    "\n",
    "w_current, epsilon = np.random.random(13), 0.01\n",
    "weight_evolution = [np.inf]\n",
    "eta = 0.0000001\n",
    "\n",
    "while weight_evolution[-1] > epsilon:\n",
    "    reg = SGDRegressor(learning_rate='constant', eta0=eta, random_state=228, max_iter=5000)\n",
    "    reg.fit(X_train, y_train, coef_init=weight_current)\n",
    "    weight_evolution.append(distance.euclidean(weight_current, reg.coef_))\n",
    "    eta -= 1e-12\n",
    "    weight_current = reg.coef_\n",
    "    \n",
    "print(weight_current, r2_score(y_test, reg.predict(X_test)))"
   ]
  },
  {
   "cell_type": "code",
   "execution_count": 44,
   "metadata": {
    "scrolled": true
   },
   "outputs": [
    {
     "name": "stdout",
     "output_type": "stream",
     "text": [
      "---------------------\n",
      "Коэффициент eta = 9.9999e-08\n",
      "---------------------\n",
      "r2 train = 0.7137115663224756\n",
      "---------------------\n",
      "r2 test = 0.6876251430257002\n",
      "---------------------\n",
      "Итерация на момент остановки = 6\n",
      "---------------------\n"
     ]
    }
   ],
   "source": [
    "print('---------------------\\n', 'Коэффициент eta = ', eta,\n",
    "      '\\n---------------------\\n', 'r2 train = ', r2_score(y_train, reg.predict(X_train)),\n",
    "      '\\n---------------------\\n', 'r2 test = ', r2_score(y_test, reg.predict(X_test)),\n",
    "      '\\n---------------------\\n', 'Итерация на момент остановки = ', reg.n_iter_,\n",
    "      '\\n---------------------', sep='')"
   ]
  },
  {
   "cell_type": "markdown",
   "metadata": {
    "colab_type": "text",
    "id": "ShVWg7IvDUdV"
   },
   "source": [
    "Вы можете начать использовать градиентный спуск уже сейчас! Если вы хотите глубже понять механизмы, которые использует этот приём - добро пожаловать в урок 5, где мы поговорим о математике, которая стоит за градиентным спуском и даже реализуем градиентный спуск на языке Python."
   ]
  }
 ],
 "metadata": {
  "colab": {
   "name": "jun_ml_linear_regression_II-hw_4.ipynb",
   "provenance": []
  },
  "kernelspec": {
   "display_name": "Python 3",
   "language": "python",
   "name": "python3"
  },
  "language_info": {
   "codemirror_mode": {
    "name": "ipython",
    "version": 3
   },
   "file_extension": ".py",
   "mimetype": "text/x-python",
   "name": "python",
   "nbconvert_exporter": "python",
   "pygments_lexer": "ipython3",
   "version": "3.7.6"
  }
 },
 "nbformat": 4,
 "nbformat_minor": 1
}
